{
 "cells": [
  {
   "cell_type": "code",
   "execution_count": null,
   "metadata": {},
   "outputs": [],
   "source": [
    "# [filter size, stride, padding]\n",
    "#Assume the two dimensions are the same\n",
    "#Each kernel requires the following parameters:\n",
    "# - k_i: kernel size\n",
    "# - s_i: stride\n",
    "# - p_i: padding (if padding is uneven, right padding will higher than left padding; \"SAME\" option in tensorflow)\n",
    "# \n",
    "#Each layer i requires the following parameters to be fully represented: \n",
    "# - n_i: number of feature (data layer has n_1 = imagesize )\n",
    "# - j_i: distance (projected to image pixel distance) between center of two adjacent features\n",
    "# - r_i: receptive field of a feature in layer i\n",
    "# - start_i: position of the first feature's receptive field in layer i (idx start from 0, negative means the center fall into padding)\n"
   ]
  },
  {
   "cell_type": "code",
   "execution_count": 1,
   "metadata": {},
   "outputs": [],
   "source": [
    "\n",
    "import math\n",
    "convnet =   [[11,4,0],[3,2,0],[5,1,2],[3,2,0],[3,1,1],[3,1,1],[3,1,1],[3,2,0],[6,1,0], [1, 1, 0]]\n",
    "layer_names = ['conv1','pool1','conv2','pool2','conv3','conv4','conv5','pool5','fc6-conv', 'fc7-conv']\n",
    "imsize = 227\n"
   ]
  },
  {
   "cell_type": "code",
   "execution_count": 2,
   "metadata": {},
   "outputs": [],
   "source": [
    "\n",
    "def outFromIn(conv, layerIn):\n",
    "    n_in = layerIn[0]\n",
    "    j_in = layerIn[1]\n",
    "    r_in = layerIn[2]\n",
    "    start_in = layerIn[3]\n",
    "    k = conv[0]\n",
    "    s = conv[1]\n",
    "    p = conv[2]\n",
    "\n",
    "    n_out = math.floor((n_in - k + 2*p)/s) + 1\n",
    "    actualP = (n_out-1)*s - n_in + k \n",
    "    pR = math.ceil(actualP/2)\n",
    "    pL = math.floor(actualP/2)\n",
    "\n",
    "    j_out = j_in * s\n",
    "    r_out = r_in + (k - 1)*j_in\n",
    "    start_out = start_in + ((k-1)/2 - pL)*j_in\n",
    "    return n_out, j_out, r_out, start_out"
   ]
  },
  {
   "cell_type": "code",
   "execution_count": 3,
   "metadata": {},
   "outputs": [],
   "source": [
    "\n",
    "def outFromIn(conv, layerIn):\n",
    "    n_in = layerIn[0]\n",
    "    j_in = layerIn[1]\n",
    "    r_in = layerIn[2]\n",
    "    start_in = layerIn[3]\n",
    "    k = conv[0]\n",
    "    s = conv[1]\n",
    "    p = conv[2]\n",
    "\n",
    "    n_out = math.floor((n_in - k + 2*p)/s) + 1\n",
    "    actualP = (n_out-1)*s - n_in + k \n",
    "    pR = math.ceil(actualP/2)\n",
    "    pL = math.floor(actualP/2)\n",
    "\n",
    "    j_out = j_in * s\n",
    "    r_out = r_in + (k - 1)*j_in\n",
    "    start_out = start_in + ((k-1)/2 - pL)*j_in\n",
    "    return n_out, j_out, r_out, start_out\n",
    "  \n"
   ]
  },
  {
   "cell_type": "code",
   "execution_count": 4,
   "metadata": {},
   "outputs": [],
   "source": [
    "def printLayer(layer, layer_name):\n",
    "    print(layer_name + \":\")\n",
    "    print(\"\\t n features: %s \\n \\t jump: %s \\n \\t receptive size: %s \\t start: %s \" % (layer[0], layer[1], layer[2], layer[3]))"
   ]
  },
  {
   "cell_type": "code",
   "execution_count": 7,
   "metadata": {},
   "outputs": [
    {
     "name": "stdout",
     "output_type": "stream",
     "text": [
      "-------Net summary------\n",
      "input image:\n",
      "\t n features: 227 \n",
      " \t jump: 1 \n",
      " \t receptive size: 1 \t start: 0.5 \n",
      "conv1:\n",
      "\t n features: 55 \n",
      " \t jump: 4 \n",
      " \t receptive size: 11 \t start: 5.5 \n",
      "------------------------\n",
      "Layer name where the feature in: conv1\n",
      "index of the feature in x dimension (from 0)1\n",
      "index of the feature in y dimension (from 0)1\n",
      "pool1:\n",
      "\t n features: 27 \n",
      " \t jump: 8 \n",
      " \t receptive size: 19 \t start: 9.5 \n",
      "------------------------\n",
      "Layer name where the feature in: 4\n"
     ]
    },
    {
     "ename": "ValueError",
     "evalue": "'4' is not in list",
     "output_type": "error",
     "traceback": [
      "\u001b[1;31m---------------------------------------------------------------------------\u001b[0m",
      "\u001b[1;31mValueError\u001b[0m                                Traceback (most recent call last)",
      "\u001b[1;32m<ipython-input-7-34b334ad309f>\u001b[0m in \u001b[0;36m<module>\u001b[1;34m\u001b[0m\n\u001b[0;32m     11\u001b[0m         \u001b[0mprint\u001b[0m \u001b[1;33m(\u001b[0m\u001b[1;34m\"------------------------\"\u001b[0m\u001b[1;33m)\u001b[0m\u001b[1;33m\u001b[0m\u001b[1;33m\u001b[0m\u001b[0m\n\u001b[0;32m     12\u001b[0m         \u001b[0mlayer_name\u001b[0m \u001b[1;33m=\u001b[0m \u001b[0minput\u001b[0m \u001b[1;33m(\u001b[0m\u001b[1;34m\"Layer name where the feature in: \"\u001b[0m\u001b[1;33m)\u001b[0m\u001b[1;33m\u001b[0m\u001b[1;33m\u001b[0m\u001b[0m\n\u001b[1;32m---> 13\u001b[1;33m         \u001b[0mlayer_idx\u001b[0m \u001b[1;33m=\u001b[0m \u001b[0mlayer_names\u001b[0m\u001b[1;33m.\u001b[0m\u001b[0mindex\u001b[0m\u001b[1;33m(\u001b[0m\u001b[0mlayer_name\u001b[0m\u001b[1;33m)\u001b[0m\u001b[1;33m\u001b[0m\u001b[1;33m\u001b[0m\u001b[0m\n\u001b[0m\u001b[0;32m     14\u001b[0m         \u001b[0midx_x\u001b[0m \u001b[1;33m=\u001b[0m \u001b[0mint\u001b[0m\u001b[1;33m(\u001b[0m\u001b[0minput\u001b[0m \u001b[1;33m(\u001b[0m\u001b[1;34m\"index of the feature in x dimension (from 0)\"\u001b[0m\u001b[1;33m)\u001b[0m\u001b[1;33m)\u001b[0m\u001b[1;33m\u001b[0m\u001b[1;33m\u001b[0m\u001b[0m\n\u001b[0;32m     15\u001b[0m         \u001b[0midx_y\u001b[0m \u001b[1;33m=\u001b[0m \u001b[0mint\u001b[0m\u001b[1;33m(\u001b[0m\u001b[0minput\u001b[0m \u001b[1;33m(\u001b[0m\u001b[1;34m\"index of the feature in y dimension (from 0)\"\u001b[0m\u001b[1;33m)\u001b[0m\u001b[1;33m)\u001b[0m\u001b[1;33m\u001b[0m\u001b[1;33m\u001b[0m\u001b[0m\n",
      "\u001b[1;31mValueError\u001b[0m: '4' is not in list"
     ]
    }
   ],
   "source": [
    "\n",
    " \n",
    "layerInfos = []\n",
    "if __name__ == '__main__':\n",
    "#first layer is the data layer (image) with n_0 = image size; j_0 = 1; r_0 = 1; and start_0 = 0.5\n",
    "    print (\"-------Net summary------\")\n",
    "    currentLayer = [imsize, 1, 1, 0.5]\n",
    "    printLayer(currentLayer, \"input image\")\n",
    "    for i in range(len(convnet)):\n",
    "        currentLayer = outFromIn(convnet[i], currentLayer)\n",
    "        layerInfos.append(currentLayer)\n",
    "        printLayer(currentLayer, layer_names[i])\n",
    "        print (\"------------------------\")\n",
    "        layer_name = input (\"Layer name where the feature in: \") # here actually raw_input was given but changed to input from 3.x \n",
    "        layer_idx = layer_names.index(layer_name)\n",
    "        idx_x = int(input (\"index of the feature in x dimension (from 0)\"))\n",
    "        idx_y = int(input (\"index of the feature in y dimension (from 0)\"))\n",
    "\n",
    "    n = layerInfos[layer_idx][0]\n",
    "    j = layerInfos[layer_idx][1]\n",
    "    r = layerInfos[layer_idx][2]\n",
    "    start = layerInfos[layer_idx][3]\n",
    "    assert(idx_x < n)\n",
    "    assert(idx_y < n)\n",
    "\n",
    "    print (\"receptive field: (%s, %s)\" % (r, r))\n",
    "    print (\"center: (%s, %s)\" % (start+idx_x*j, start+idx_y*j ))"
   ]
  },
  {
   "cell_type": "code",
   "execution_count": null,
   "metadata": {},
   "outputs": [],
   "source": []
  },
  {
   "cell_type": "code",
   "execution_count": null,
   "metadata": {},
   "outputs": [],
   "source": []
  }
 ],
 "metadata": {
  "kernelspec": {
   "display_name": "Python 3",
   "language": "python",
   "name": "python3"
  },
  "language_info": {
   "codemirror_mode": {
    "name": "ipython",
    "version": 3
   },
   "file_extension": ".py",
   "mimetype": "text/x-python",
   "name": "python",
   "nbconvert_exporter": "python",
   "pygments_lexer": "ipython3",
   "version": "3.6.9"
  }
 },
 "nbformat": 4,
 "nbformat_minor": 2
}
